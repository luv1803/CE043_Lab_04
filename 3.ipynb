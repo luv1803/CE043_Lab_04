{
  "nbformat": 4,
  "nbformat_minor": 0,
  "metadata": {
    "colab": {
      "name": "ML_Lab4_3.ipynb",
      "provenance": []
    },
    "kernelspec": {
      "name": "python3",
      "display_name": "Python 3"
    },
    "language_info": {
      "name": "python"
    }
  },
  "cells": [
    {
      "cell_type": "markdown",
      "source": [
        "Aim: Implement Linear Regression Algorithm on the given dataset.\n",
        "\n",
        "Exercise 1: Try Linear Regression just using numpy (Without Tensorflow/Pytorch or other torch library). You can optionally use sklearn (if you want)"
      ],
      "metadata": {
        "id": "-gYdNpPLL9ol"
      }
    },
    {
      "cell_type": "code",
      "execution_count": 1,
      "metadata": {
        "id": "KLg168t8K1g2"
      },
      "outputs": [],
      "source": [
        "# Import Numpy & PyTorch\n",
        "\n",
        "import torch.nn as nn\n",
        "import numpy as np\n",
        "import torch\n",
        "from numpy.core.fromnumeric import mean"
      ]
    },
    {
      "cell_type": "code",
      "source": [
        "# Input (temp, rainfall, humidity)\n",
        "inputs = np.array([[73, 67, 43],\n",
        "                  [91, 88, 64],\n",
        "                  [87, 134, 58],\n",
        "                  [102, 43, 37],\n",
        "                  [69, 96, 70]], dtype='float32')\n",
        "\n",
        "\n",
        "# Target (apples)\n",
        "targets = np.array([[56],\n",
        "                    [81],\n",
        "                    [119],\n",
        "                    [22],\n",
        "                    [103]], dtype='float32')\n",
        "\n",
        "# Convert inputs and targets to tensors\n",
        "inputs = torch.from_numpy(inputs)\n",
        "targets = torch.from_numpy(targets)\n",
        "print(\"converted : \",inputs)\n",
        "print(\"converted : \",targets)"
      ],
      "metadata": {
        "colab": {
          "base_uri": "https://localhost:8080/"
        },
        "id": "EioFchpoK-KQ",
        "outputId": "663dd4de-771c-4496-8727-70edf33eafd1"
      },
      "execution_count": 2,
      "outputs": [
        {
          "output_type": "stream",
          "name": "stdout",
          "text": [
            "converted :  tensor([[ 73.,  67.,  43.],\n",
            "        [ 91.,  88.,  64.],\n",
            "        [ 87., 134.,  58.],\n",
            "        [102.,  43.,  37.],\n",
            "        [ 69.,  96.,  70.]])\n",
            "converted :  tensor([[ 56.],\n",
            "        [ 81.],\n",
            "        [119.],\n",
            "        [ 22.],\n",
            "        [103.]])\n"
          ]
        }
      ]
    },
    {
      "cell_type": "code",
      "source": [
        "# Weights and biases\n",
        "w = torch.randn(1, 3, requires_grad=True)\n",
        "b = torch.randn(1, requires_grad=True)\n",
        "\n",
        "print(\"Weights \",w)\n",
        "\n",
        "print(\"Bias \",b)"
      ],
      "metadata": {
        "colab": {
          "base_uri": "https://localhost:8080/"
        },
        "id": "WqdzDKfaK-S1",
        "outputId": "2ea5e28b-ace7-447f-ec86-4587d8f25a0a"
      },
      "execution_count": 3,
      "outputs": [
        {
          "output_type": "stream",
          "name": "stdout",
          "text": [
            "Weights  tensor([[-0.7618,  0.0554, -0.0989]], requires_grad=True)\n",
            "Bias  tensor([0.8867], requires_grad=True)\n"
          ]
        }
      ]
    },
    {
      "cell_type": "code",
      "source": [
        "#Defining the model\n",
        "def model(x):\n",
        "    return  torch.mm(x,w.t(),out=None)+b"
      ],
      "metadata": {
        "id": "c0LsMfuZK-Wi"
      },
      "execution_count": 4,
      "outputs": []
    },
    {
      "cell_type": "code",
      "source": [
        "#Generate Predictions\n",
        "pred=model(inputs)\n",
        "print(\"Prediction \",pred)\n",
        "\n",
        "#Compare with targets\n",
        "print(\"Target \",targets)"
      ],
      "metadata": {
        "colab": {
          "base_uri": "https://localhost:8080/"
        },
        "id": "sV-kXtQ3K-ZR",
        "outputId": "8eea2180-503c-4524-9db0-899d68406793"
      },
      "execution_count": 5,
      "outputs": [
        {
          "output_type": "stream",
          "name": "stdout",
          "text": [
            "Prediction  tensor([[-55.2673],\n",
            "        [-69.8938],\n",
            "        [-63.7055],\n",
            "        [-78.0953],\n",
            "        [-53.2845]], grad_fn=<AddBackward0>)\n",
            "Target  tensor([[ 56.],\n",
            "        [ 81.],\n",
            "        [119.],\n",
            "        [ 22.],\n",
            "        [103.]])\n"
          ]
        }
      ]
    },
    {
      "cell_type": "code",
      "source": [
        "# MSE loss\n",
        "def MseLoss(P,T):\n",
        "  sum=0\n",
        "  for j in range(0,len(T)):\n",
        "    sum += (T[j]-P[j])*(T[j]-P[j])\n",
        "  return sum/len(T)\n",
        "\n",
        "Loss=MseLoss(pred,targets)\n",
        "print(\"MSE Loss \",Loss)"
      ],
      "metadata": {
        "colab": {
          "base_uri": "https://localhost:8080/"
        },
        "id": "r_VuACG3LJyV",
        "outputId": "a01a0cea-b816-453b-df97-a246071ee344"
      },
      "execution_count": 6,
      "outputs": [
        {
          "output_type": "stream",
          "name": "stdout",
          "text": [
            "MSE Loss  tensor([20594.9082], grad_fn=<DivBackward0>)\n"
          ]
        }
      ]
    },
    {
      "cell_type": "code",
      "source": [
        "#Computing Gradients\n",
        "Loss.backward()\n",
        "\n",
        "#Gradients for Weights\n",
        "print(\"Gradient for Weights \",w.grad)\n",
        "\n",
        "#Gradients for Bias\n",
        "print(\"Gradient for Bias is \",b.grad)"
      ],
      "metadata": {
        "colab": {
          "base_uri": "https://localhost:8080/"
        },
        "id": "rADPBoWTLJ0i",
        "outputId": "3e25388f-9c97-413c-f5b1-83c4ca2834c9"
      },
      "execution_count": 7,
      "outputs": [
        {
          "output_type": "stream",
          "name": "stdout",
          "text": [
            "Gradient for Weights  tensor([[-23497.0273, -25809.4023, -15872.8223]])\n",
            "Gradient for Bias is  tensor([-280.4985])\n"
          ]
        }
      ]
    },
    {
      "cell_type": "code",
      "source": [
        "# Adjust weights and Bias & reset gradients\n",
        "with torch.no_grad():\n",
        "    w -= w.grad * 1e-5\n",
        "    b -= b.grad * 1e-5\n",
        "    w.grad.zero_()\n",
        "    b.grad.zero_()\n",
        "print(\"Gradients for weights \",w.grad)\n",
        "print(\"Gradients for Bias \",b.grad)\n",
        "print(\"New weights \",w)\n",
        "print(\"New bias \",b)"
      ],
      "metadata": {
        "colab": {
          "base_uri": "https://localhost:8080/"
        },
        "id": "b6auV5g9LJ3_",
        "outputId": "9ba477ef-7448-4be8-bdf5-dd34050ff2a1"
      },
      "execution_count": 8,
      "outputs": [
        {
          "output_type": "stream",
          "name": "stdout",
          "text": [
            "Gradients for weights  tensor([[0., 0., 0.]])\n",
            "Gradients for Bias  tensor([0.])\n",
            "New weights  tensor([[-0.5268,  0.3135,  0.0598]], requires_grad=True)\n",
            "New bias  tensor([0.8895], requires_grad=True)\n"
          ]
        }
      ]
    },
    {
      "cell_type": "code",
      "source": [
        "#calculate new Loss\n",
        "new_pred=model(inputs)\n",
        "new_loss = MseLoss(new_pred, targets)\n",
        "print(\"New Loss  \",new_loss)"
      ],
      "metadata": {
        "colab": {
          "base_uri": "https://localhost:8080/"
        },
        "id": "6BV3cRs2LXnJ",
        "outputId": "59daa25d-8780-4921-ae75-ca2856879368"
      },
      "execution_count": 9,
      "outputs": [
        {
          "output_type": "stream",
          "name": "stdout",
          "text": [
            "New Loss   tensor([8525.1836], grad_fn=<DivBackward0>)\n"
          ]
        }
      ]
    },
    {
      "cell_type": "code",
      "source": [
        "# Train for 100 epochs\n",
        "for i in range(100):\n",
        "    preds = model(inputs)\n",
        "    loss = MseLoss(preds, targets)\n",
        "    loss.backward()\n",
        "    with torch.no_grad():\n",
        "        w -= w.grad * 1e-5\n",
        "        b -= b.grad * 1e-5\n",
        "        w.grad.zero_()\n",
        "        b.grad.zero_()"
      ],
      "metadata": {
        "id": "3ZPiJoV2LXpl"
      },
      "execution_count": 10,
      "outputs": []
    },
    {
      "cell_type": "code",
      "source": [
        "# Calculate  new loss\n",
        "preds = model(inputs)\n",
        "loss = MseLoss(preds, targets)\n",
        "print(\"Loss  \",loss)"
      ],
      "metadata": {
        "colab": {
          "base_uri": "https://localhost:8080/"
        },
        "id": "XvLYWdDhLXr8",
        "outputId": "3c7e9439-e9ad-4af9-d6c8-e9b9776576b6"
      },
      "execution_count": 11,
      "outputs": [
        {
          "output_type": "stream",
          "name": "stdout",
          "text": [
            "Loss   tensor([13.4280], grad_fn=<DivBackward0>)\n"
          ]
        }
      ]
    },
    {
      "cell_type": "markdown",
      "source": [
        "Exercise 2: Try Linear regression on same prediction data using Tensorflow"
      ],
      "metadata": {
        "id": "JQxXUbR5LjtQ"
      }
    },
    {
      "cell_type": "code",
      "source": [
        "#Input(Temp,Rainfall,humidity)\n",
        "inputs = np.array([[73, 67, 43],\n",
        "                  [91, 88, 64],\n",
        "                  [87, 134, 58],\n",
        "                  [102, 43, 37],\n",
        "                  [69, 96, 70]], dtype='float32')\n",
        "\n",
        "#Target(Apples)\n",
        "targets = np.array([[56],\n",
        "                    [81],\n",
        "                    [119],\n",
        "                    [22],\n",
        "                    [103]], dtype='float32')\n",
        "\n",
        "# Convert inputs and targets to tensors\n",
        "inputs = torch.from_numpy(inputs)\n",
        "targets = torch.from_numpy(targets)"
      ],
      "metadata": {
        "id": "M5Altn_9LXt_"
      },
      "execution_count": 12,
      "outputs": []
    },
    {
      "cell_type": "code",
      "source": [
        "# Weights and biases\n",
        "w = torch.randn(1, 3, requires_grad=True)\n",
        "b = torch.randn(1, requires_grad=True)\n",
        "\n",
        "print(\"Weights \",w)\n",
        "\n",
        "print(\"Bias \",b)"
      ],
      "metadata": {
        "colab": {
          "base_uri": "https://localhost:8080/"
        },
        "id": "FXbJSNXdLXxa",
        "outputId": "4b725bde-c5d3-46ba-805a-87cd7faa2395"
      },
      "execution_count": 13,
      "outputs": [
        {
          "output_type": "stream",
          "name": "stdout",
          "text": [
            "Weights  tensor([[-0.7550,  0.2162, -0.4957]], requires_grad=True)\n",
            "Bias  tensor([0.1455], requires_grad=True)\n"
          ]
        }
      ]
    },
    {
      "cell_type": "code",
      "source": [
        "#Defining the model\n",
        "def model(x):\n",
        "    return  x @ w.t()+b"
      ],
      "metadata": {
        "id": "IeMsO3LcLrrz"
      },
      "execution_count": 14,
      "outputs": []
    },
    {
      "cell_type": "code",
      "source": [
        "#Generate Predictions\n",
        "preds=model(inputs)\n",
        "print(\"Prediction \",preds)\n",
        "\n",
        "#Compare with targets\n",
        "print(\"Target \",targets)"
      ],
      "metadata": {
        "colab": {
          "base_uri": "https://localhost:8080/"
        },
        "id": "P3k5zv0kLrvP",
        "outputId": "da81c985-8642-4b1f-ebbc-20c467904c25"
      },
      "execution_count": 15,
      "outputs": [
        {
          "output_type": "stream",
          "name": "stdout",
          "text": [
            "Prediction  tensor([[-61.8003],\n",
            "        [-81.2596],\n",
            "        [-65.3197],\n",
            "        [-85.9117],\n",
            "        [-65.8929]], grad_fn=<AddBackward0>)\n",
            "Target  tensor([[ 56.],\n",
            "        [ 81.],\n",
            "        [119.],\n",
            "        [ 22.],\n",
            "        [103.]])\n"
          ]
        }
      ]
    },
    {
      "cell_type": "code",
      "source": [
        "mseloss = nn.MSELoss()\n",
        "loss = mseloss(preds, targets)\n",
        "loss.backward()\n",
        "print(\"Loss \",loss)\n",
        "\n",
        "#Computing Gradients\n",
        "print(\"Gradients for weights \",w.grad)\n",
        "print(\"Gradients for Bias \",b.grad)\n"
      ],
      "metadata": {
        "colab": {
          "base_uri": "https://localhost:8080/"
        },
        "id": "JktdjisALydn",
        "outputId": "d099500d-1619-43ea-ea53-cca37987d235"
      },
      "execution_count": 16,
      "outputs": [
        {
          "output_type": "stream",
          "name": "stdout",
          "text": [
            "Loss  tensor(22869.7168, grad_fn=<MseLossBackward0>)\n",
            "Gradients for weights  tensor([[-24824.5859, -27089.6914, -16782.3223]])\n",
            "Gradients for Bias  tensor([-296.4737])\n"
          ]
        }
      ]
    },
    {
      "cell_type": "code",
      "source": [
        "# Train for 100 epochs\n",
        "for i in range(100):\n",
        "    preds = model(inputs)\n",
        "    loss = mseloss(preds, targets)\n",
        "    loss.backward()\n",
        "    with torch.no_grad():\n",
        "        w -= w.grad * 1e-5\n",
        "        b -= b.grad * 1e-5\n",
        "        w.grad.zero_()\n",
        "        b.grad.zero_()"
      ],
      "metadata": {
        "id": "bSMiUePvLyhv"
      },
      "execution_count": 17,
      "outputs": []
    },
    {
      "cell_type": "code",
      "source": [
        "# Calculate  new loss\n",
        "preds = model(inputs)\n",
        "loss = mseloss(preds, targets)\n",
        "print(\"Loss\",loss)"
      ],
      "metadata": {
        "colab": {
          "base_uri": "https://localhost:8080/"
        },
        "id": "zZegSE1EL36U",
        "outputId": "8e957799-c77a-4090-f94d-31e9af43731d"
      },
      "execution_count": 18,
      "outputs": [
        {
          "output_type": "stream",
          "name": "stdout",
          "text": [
            "Loss tensor(41.6954, grad_fn=<MseLossBackward0>)\n"
          ]
        }
      ]
    }
  ]
}